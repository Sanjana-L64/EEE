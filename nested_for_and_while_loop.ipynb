{
  "nbformat": 4,
  "nbformat_minor": 0,
  "metadata": {
    "colab": {
      "provenance": [],
      "include_colab_link": true
    },
    "kernelspec": {
      "name": "python3",
      "display_name": "Python 3"
    },
    "language_info": {
      "name": "python"
    }
  },
  "cells": [
    {
      "cell_type": "markdown",
      "metadata": {
        "id": "view-in-github",
        "colab_type": "text"
      },
      "source": [
        "<a href=\"https://colab.research.google.com/github/Sanjana-L64/EEE/blob/main/nested_for_and_while_loop.ipynb\" target=\"_parent\"><img src=\"https://colab.research.google.com/assets/colab-badge.svg\" alt=\"Open In Colab\"/></a>"
      ]
    },
    {
      "cell_type": "code",
      "execution_count": null,
      "metadata": {
        "colab": {
          "base_uri": "https://localhost:8080/"
        },
        "id": "TtuenglQPNPn",
        "outputId": "1de83f89-a271-4617-ad13-7ee4b5e45655"
      },
      "outputs": [
        {
          "output_type": "stream",
          "name": "stdout",
          "text": [
            "++++++\n",
            "+++++\n",
            "++++\n",
            "+++\n",
            "++\n",
            "+\n"
          ]
        }
      ],
      "source": [
        "\n",
        "# nested for loop pattern 1\n",
        "def pattern(n):\n",
        "    for i in range(n):\n",
        "        for j in range(n - i):\n",
        "            print(\"+\", end=\"\")\n",
        "        print()\n",
        "\n",
        "n = 6\n",
        "pattern(n)"
      ]
    },
    {
      "cell_type": "code",
      "source": [
        "#nested for loop pattern2\n",
        "def pattern(n):\n",
        "    for i in range(1, n + 1):\n",
        "        for j in range(i):\n",
        "            print(\"*\", end=\"\")\n",
        "        print()\n",
        "\n",
        "n = 6\n",
        "pattern(n)\n"
      ],
      "metadata": {
        "colab": {
          "base_uri": "https://localhost:8080/"
        },
        "id": "Z6Uq1VnrQyVG",
        "outputId": "cd020191-0f8a-4cb1-8553-c04a395834de"
      },
      "execution_count": null,
      "outputs": [
        {
          "output_type": "stream",
          "name": "stdout",
          "text": [
            "*\n",
            "**\n",
            "***\n",
            "****\n",
            "*****\n",
            "******\n"
          ]
        }
      ]
    },
    {
      "cell_type": "code",
      "source": [
        "#nested for loop pattern3\n",
        "def pattern(n):\n",
        "    for i in range(1, n + 1):  (As n=6 ,loop counts i from 1 to 6 )\n",
        "        for j in range(n - i):   (i=1,then j(6-1=5 spaces))\n",
        "            print(\" \", end=\"\")   (print 5 spaces then take k in range as 1)\n",
        "        for k in range(i):\n",
        "            print(\"*\", end=\"\") (1=*,2=**)\n",
        "        print()\n",
        "\n",
        "n = 6\n",
        "pattern(n)"
      ],
      "metadata": {
        "colab": {
          "base_uri": "https://localhost:8080/"
        },
        "id": "CKMbl5WoSkIw",
        "outputId": "d9ceeda4-c755-409d-dcd3-d96a56e4b64c"
      },
      "execution_count": null,
      "outputs": [
        {
          "output_type": "stream",
          "name": "stdout",
          "text": [
            "     *\n",
            "    **\n",
            "   ***\n",
            "  ****\n",
            " *****\n",
            "******\n"
          ]
        }
      ]
    },
    {
      "cell_type": "code",
      "source": [
        "#nested for loop pattern4\n",
        "def pattern(n):\n",
        "    for i in range(n):\n",
        "        for j in range(i):\n",
        "            print(\" \", end=\"\")\n",
        "        for k in range(n - i):\n",
        "            print(\"+\", end=\"\")\n",
        "        print()\n",
        "n = 6\n",
        "pattern(n)"
      ],
      "metadata": {
        "colab": {
          "base_uri": "https://localhost:8080/"
        },
        "id": "lybrEwfHUE7P",
        "outputId": "afb47cfb-c2e8-4129-c6a0-b23d285808c6"
      },
      "execution_count": null,
      "outputs": [
        {
          "output_type": "stream",
          "name": "stdout",
          "text": [
            "++++++\n",
            " +++++\n",
            "  ++++\n",
            "   +++\n",
            "    ++\n",
            "     +\n"
          ]
        }
      ]
    },
    {
      "cell_type": "code",
      "source": [
        "#nested while loop\n",
        "def pattern(n):\n",
        "    i = n                      # Initialize i with n (number of rows)\n",
        "    while i > 0:               # Outer loop runs as long as i > 0\n",
        "        j = 0                  # Initialize j (for the inner loop)\n",
        "        while j < i:           # Inner loop runs i times\n",
        "            print(\"+\", end=\"\") # Print '+' without moving to a new line\n",
        "            j += 1             # Increment j after each '+' is printed\n",
        "        print()                # Move to the next line after inner loop\n",
        "        i -= 1                 # Decrease i to print one less '+' in the next row\n",
        "\n",
        "n = 6\n",
        "pattern(n)\n",
        "\n",
        "\n"
      ],
      "metadata": {
        "id": "4a2bEwSlVTRS"
      },
      "execution_count": null,
      "outputs": []
    }
  ]
}