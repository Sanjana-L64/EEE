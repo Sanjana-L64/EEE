{
  "nbformat": 4,
  "nbformat_minor": 0,
  "metadata": {
    "colab": {
      "provenance": [],
      "authorship_tag": "ABX9TyNYcjmROLw+4vM3eXv/N7v5",
      "include_colab_link": true
    },
    "kernelspec": {
      "name": "python3",
      "display_name": "Python 3"
    },
    "language_info": {
      "name": "python"
    }
  },
  "cells": [
    {
      "cell_type": "markdown",
      "metadata": {
        "id": "view-in-github",
        "colab_type": "text"
      },
      "source": [
        "<a href=\"https://colab.research.google.com/github/Sanjana-L64/EEE/blob/main/ocsc.ipynb\" target=\"_parent\"><img src=\"https://colab.research.google.com/assets/colab-badge.svg\" alt=\"Open In Colab\"/></a>"
      ]
    },
    {
      "cell_type": "code",
      "execution_count": 6,
      "metadata": {
        "colab": {
          "base_uri": "https://localhost:8080/"
        },
        "id": "4jSozPtq_h4f",
        "outputId": "0212ab70-7c8c-4f12-a406-c4b306469040"
      },
      "outputs": [
        {
          "output_type": "stream",
          "name": "stdout",
          "text": [
            "enter the load value1\n",
            "R0 and X0 values are:  193.6 133.67309875319802\n",
            "R01 and X01 values are:  0.00016 2.190598091846151\n",
            "efficiency, copper_losses at  1.0 load:  (83.33333333333333, 500.0)\n"
          ]
        }
      ],
      "source": [
        "import module as md\n",
        "import math as mt\n",
        "Vo=220\n",
        "Io=2\n",
        "Wo=250\n",
        "rating=5000\n",
        "pf=1\n",
        "Pv=220\n",
        "Sv=440\n",
        "Isc=10\n",
        "Vsc=75\n",
        "Wsc=500\n",
        "X=float(input(\"enter the load value\"))\n",
        "\n",
        "\"\"\"def oc(Vo,Io,Wo):\n",
        "    Noloadpf=float(Wo)/(Vo*Io)\n",
        "    Iw=float(Io*Noloadpf)\n",
        "    Imu = Io * mt.sqrt(1 - Noloadpf ** 2)\n",
        "    R0=float(Vo/Iw)\n",
        "    X0=float(Vo/Imu)\n",
        "    return R0,X0\"\"\"\n",
        "\n",
        "\"\"\"def oc(Vo,Io,Wo):\n",
        "  Noloadpf=float(Wo)/(Vo*Io)\n",
        "  Iw=float(Io*Noloadpf)\n",
        "  Imu = Io * mt.sqrt(1 - Noloadpf ** 2)\n",
        "  R0=float(Vo/Iw)\n",
        "  X0=float(Vo/Imu)\n",
        "  return R0,X0\"\"\"\n",
        "\n",
        "\"\"\"def eff(rating,Wo,Wsc,X,pf):\n",
        "    efficiency = float((X*rating*100)/(X*rating+Wo+X*X*Wsc))\n",
        "    copper=float(Wsc*X)\n",
        "    return efficiency,copper_losses\"\"\"\n",
        "\n",
        "\n",
        "(R0,X0)=md.oc(Vo,Io,Wo)\n",
        "(R01,X01)=md.Sc(Vsc,Isc,Wsc,Pv,Sv)\n",
        "\n",
        "print(\"R0 and X0 values are: \",R0,X0)\n",
        "print(\"R01 and X01 values are: \",R01,X01)\n",
        "print(\"efficiency, copper_losses at \",X,\"load: \",eff(rating,Wo,Wsc,X,pf))"
      ]
    }
  ]
}