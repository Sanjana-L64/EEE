{
  "nbformat": 4,
  "nbformat_minor": 0,
  "metadata": {
    "colab": {
      "provenance": [],
      "authorship_tag": "ABX9TyPMGFprYd3E/qBPdAsvrqtz",
      "include_colab_link": true
    },
    "kernelspec": {
      "name": "python3",
      "display_name": "Python 3"
    },
    "language_info": {
      "name": "python"
    }
  },
  "cells": [
    {
      "cell_type": "markdown",
      "metadata": {
        "id": "view-in-github",
        "colab_type": "text"
      },
      "source": [
        "<a href=\"https://colab.research.google.com/github/Sanjana-L64/EEE/blob/main/list.ipynb\" target=\"_parent\"><img src=\"https://colab.research.google.com/assets/colab-badge.svg\" alt=\"Open In Colab\"/></a>"
      ]
    },
    {
      "cell_type": "markdown",
      "source": [
        "LIST\n"
      ],
      "metadata": {
        "id": "HJz3Q77P7R-7"
      }
    },
    {
      "cell_type": "code",
      "execution_count": 40,
      "metadata": {
        "colab": {
          "base_uri": "https://localhost:8080/"
        },
        "id": "PFUzgnDA6qvT",
        "outputId": "3b01e1bc-1e6e-4942-a062-5801ede6650c"
      },
      "outputs": [
        {
          "output_type": "stream",
          "name": "stdout",
          "text": [
            "['sanjana', 'EEE', 'SRU', 'L64']\n"
          ]
        }
      ],
      "source": [
        "mylist=[\"sanjana\",\"EEE\",\"SRU\",\"L64\"]\n",
        "print(mylist)"
      ]
    },
    {
      "cell_type": "code",
      "source": [
        "print(type(mylist))"
      ],
      "metadata": {
        "colab": {
          "base_uri": "https://localhost:8080/"
        },
        "id": "NpQYlyIA7kYx",
        "outputId": "fc4711ca-34e1-4f0a-fa54-cdb2938954b8"
      },
      "execution_count": 41,
      "outputs": [
        {
          "output_type": "stream",
          "name": "stdout",
          "text": [
            "<class 'list'>\n"
          ]
        }
      ]
    },
    {
      "cell_type": "code",
      "source": [
        "print(mylist[2])"
      ],
      "metadata": {
        "colab": {
          "base_uri": "https://localhost:8080/"
        },
        "id": "FgOBWLT07wNR",
        "outputId": "0269597a-7fcf-4188-ea23-d267caa06740"
      },
      "execution_count": 42,
      "outputs": [
        {
          "output_type": "stream",
          "name": "stdout",
          "text": [
            "SRU\n"
          ]
        }
      ]
    },
    {
      "cell_type": "code",
      "source": [
        "print(mylist[0:3])\n"
      ],
      "metadata": {
        "colab": {
          "base_uri": "https://localhost:8080/"
        },
        "id": "hkz0sCRU8eAZ",
        "outputId": "f25c4db6-2560-4139-af17-6d879e6787a9"
      },
      "execution_count": 43,
      "outputs": [
        {
          "output_type": "stream",
          "name": "stdout",
          "text": [
            "['sanjana', 'EEE', 'SRU']\n"
          ]
        }
      ]
    },
    {
      "cell_type": "code",
      "source": [
        "#to insert elements\n",
        "mylist.insert(19,29)\n",
        "print(mylist)"
      ],
      "metadata": {
        "colab": {
          "base_uri": "https://localhost:8080/"
        },
        "id": "JRpAnZkX9JOp",
        "outputId": "d98ccf4c-1e0c-4a12-a003-0a937ee63207"
      },
      "execution_count": 44,
      "outputs": [
        {
          "output_type": "stream",
          "name": "stdout",
          "text": [
            "['sanjana', 'EEE', 'SRU', 'L64', 29]\n"
          ]
        }
      ]
    },
    {
      "cell_type": "code",
      "source": [
        "#to add elements in end\n",
        "mylist.append(\"pooja\")\n",
        "print(mylist)"
      ],
      "metadata": {
        "colab": {
          "base_uri": "https://localhost:8080/"
        },
        "id": "FDD1FxpCAn7A",
        "outputId": "c979192d-5ffe-4a37-db4e-390d969e4679"
      },
      "execution_count": 45,
      "outputs": [
        {
          "output_type": "stream",
          "name": "stdout",
          "text": [
            "['sanjana', 'EEE', 'SRU', 'L64', 29, 'pooja']\n"
          ]
        }
      ]
    },
    {
      "cell_type": "code",
      "source": [
        "#to add list\n",
        "mylist.extend([1,\"dharani\"])\n",
        "print(mylist)"
      ],
      "metadata": {
        "colab": {
          "base_uri": "https://localhost:8080/"
        },
        "id": "HD_-XKqDBMvQ",
        "outputId": "feb18740-35b1-4667-d836-c1babd1d0b1f"
      },
      "execution_count": 46,
      "outputs": [
        {
          "output_type": "stream",
          "name": "stdout",
          "text": [
            "['sanjana', 'EEE', 'SRU', 'L64', 29, 'pooja', 1, 'dharani']\n"
          ]
        }
      ]
    },
    {
      "cell_type": "code",
      "source": [
        "#to remove element\n",
        "mylist.remove(1)\n",
        "print(mylist)"
      ],
      "metadata": {
        "colab": {
          "base_uri": "https://localhost:8080/"
        },
        "id": "ilpWRVPnB4AI",
        "outputId": "4deb1bec-98d0-42fe-a7b8-646d4a34cd39"
      },
      "execution_count": 47,
      "outputs": [
        {
          "output_type": "stream",
          "name": "stdout",
          "text": [
            "['sanjana', 'EEE', 'SRU', 'L64', 29, 'pooja', 'dharani']\n"
          ]
        }
      ]
    },
    {
      "cell_type": "code",
      "source": [
        "#to update element\n",
        "mylist[1]=\"pooja\"\n",
        "print(mylist)"
      ],
      "metadata": {
        "colab": {
          "base_uri": "https://localhost:8080/"
        },
        "id": "TqPu_T6EDmvQ",
        "outputId": "94590f5c-c55e-430d-90cf-c806876b39c7"
      },
      "execution_count": 48,
      "outputs": [
        {
          "output_type": "stream",
          "name": "stdout",
          "text": [
            "['sanjana', 'pooja', 'SRU', 'L64', 29, 'pooja', 'dharani']\n"
          ]
        }
      ]
    },
    {
      "cell_type": "markdown",
      "source": [
        "**TUPLE**"
      ],
      "metadata": {
        "id": "AqOzhzXkESIo"
      }
    },
    {
      "cell_type": "code",
      "source": [
        "data=(\"apple\",\"banana\",\"cherry\")\n",
        "print(data)"
      ],
      "metadata": {
        "colab": {
          "base_uri": "https://localhost:8080/"
        },
        "id": "Aah7NntSEYp4",
        "outputId": "335ebfca-02f8-4947-aa0f-52dda42c4efe"
      },
      "execution_count": 49,
      "outputs": [
        {
          "output_type": "stream",
          "name": "stdout",
          "text": [
            "('apple', 'banana', 'cherry')\n"
          ]
        }
      ]
    },
    {
      "cell_type": "code",
      "source": [
        "print(type(data))"
      ],
      "metadata": {
        "colab": {
          "base_uri": "https://localhost:8080/"
        },
        "id": "h9IDrG5LE25o",
        "outputId": "a0f4fa43-fba7-45ad-df39-9e25c207d68a"
      },
      "execution_count": 50,
      "outputs": [
        {
          "output_type": "stream",
          "name": "stdout",
          "text": [
            "<class 'tuple'>\n"
          ]
        }
      ]
    },
    {
      "cell_type": "code",
      "source": [
        "#changing tuple to list\n",
        "a=(list(data))\n",
        "print(a)"
      ],
      "metadata": {
        "colab": {
          "base_uri": "https://localhost:8080/"
        },
        "id": "wDMmEi8-Obrf",
        "outputId": "bd66ae7b-06e6-4b92-9acb-be52bc9ef6a3"
      },
      "execution_count": 56,
      "outputs": [
        {
          "output_type": "stream",
          "name": "stdout",
          "text": [
            "['apple', 'banana', 'cherry']\n"
          ]
        }
      ]
    },
    {
      "cell_type": "code",
      "source": [
        "#adding elements in list\n",
        "a.append(\"mango\")\n",
        "print(a)"
      ],
      "metadata": {
        "colab": {
          "base_uri": "https://localhost:8080/"
        },
        "id": "N65_3vqzOyEP",
        "outputId": "7231cdd5-b7b1-4bd7-b4b4-7e85f83f5afd"
      },
      "execution_count": 59,
      "outputs": [
        {
          "output_type": "stream",
          "name": "stdout",
          "text": [
            "['apple', 'banana', 'cherry', 'mango']\n"
          ]
        }
      ]
    },
    {
      "cell_type": "code",
      "source": [
        "#changing updated list to tuple\n",
        "data=tuple(a)\n",
        "print(data)"
      ],
      "metadata": {
        "colab": {
          "base_uri": "https://localhost:8080/"
        },
        "id": "yyAp7__TPwKH",
        "outputId": "9aab62a1-785d-431a-ad61-147cfda4b98d"
      },
      "execution_count": 60,
      "outputs": [
        {
          "output_type": "stream",
          "name": "stdout",
          "text": [
            "('apple', 'banana', 'cherry', 'mango')\n"
          ]
        }
      ]
    }
  ]
}