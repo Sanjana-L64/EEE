{
  "nbformat": 4,
  "nbformat_minor": 0,
  "metadata": {
    "colab": {
      "provenance": [],
      "authorship_tag": "ABX9TyPOA4dcij6udpq1hFq+MlL0",
      "include_colab_link": true
    },
    "kernelspec": {
      "name": "python3",
      "display_name": "Python 3"
    },
    "language_info": {
      "name": "python"
    }
  },
  "cells": [
    {
      "cell_type": "markdown",
      "metadata": {
        "id": "view-in-github",
        "colab_type": "text"
      },
      "source": [
        "<a href=\"https://colab.research.google.com/github/Sanjana-L64/EEE/blob/main/Untitled27.ipynb\" target=\"_parent\"><img src=\"https://colab.research.google.com/assets/colab-badge.svg\" alt=\"Open In Colab\"/></a>"
      ]
    },
    {
      "cell_type": "code",
      "execution_count": 42,
      "metadata": {
        "colab": {
          "base_uri": "https://localhost:8080/"
        },
        "id": "mcj3v-r3x4Kt",
        "outputId": "9e8fb781-0144-4508-c3a5-0c2798e1ee8a"
      },
      "outputs": [
        {
          "output_type": "stream",
          "name": "stdout",
          "text": [
            "++++++\n",
            "+++++\n",
            "++++\n",
            "+++\n",
            "++\n",
            "+\n",
            "\n"
          ]
        }
      ],
      "source": [
        "n=7\n",
        "for i in range (n):\n",
        "  for j in range (1,n-i):\n",
        "    print(\"+\",end=\"\")\n",
        "  print()"
      ]
    },
    {
      "cell_type": "code",
      "source": [
        "i=1\n",
        "for i in range (0,7):\n",
        "  j=1\n",
        "  for j in range (0,i):\n",
        "     j=i+1\n",
        "     print(\"*\",end=\" \")\n",
        "  print()"
      ],
      "metadata": {
        "colab": {
          "base_uri": "https://localhost:8080/"
        },
        "id": "hzHqyYL60N-e",
        "outputId": "d278db61-df8d-423d-97e2-4176b916a8bb"
      },
      "execution_count": 81,
      "outputs": [
        {
          "output_type": "stream",
          "name": "stdout",
          "text": [
            "\n",
            "* \n",
            "* * \n",
            "* * * \n",
            "* * * * \n",
            "* * * * * \n",
            "* * * * * * \n"
          ]
        }
      ]
    },
    {
      "cell_type": "code",
      "source": [
        "i=1\n",
        "for i in range (0,6):\n",
        "  j=1\n",
        "  for j in range (0,i):\n",
        "     j=i+1\n",
        "     print(\"*\", end=\" \")\n",
        "\n",
        "\n",
        "  print()"
      ],
      "metadata": {
        "colab": {
          "base_uri": "https://localhost:8080/"
        },
        "id": "NQn6D77-50xu",
        "outputId": "ee7d5ea5-192c-4f7f-e7ca-ff3266e4146d"
      },
      "execution_count": 80,
      "outputs": [
        {
          "output_type": "stream",
          "name": "stdout",
          "text": [
            "\n",
            "* \n",
            "* * \n",
            "* * * \n",
            "* * * * \n",
            "* * * * * \n"
          ]
        }
      ]
    },
    {
      "cell_type": "code",
      "source": [
        "def pattern(n):\n",
        " for i in range (1,n+1):\n",
        "    for j in range (n-i):\n",
        "      print(\" \",end='')\n",
        "    for k in range (i):\n",
        "          print(\"*\",end='')\n",
        "n=6\n",
        "pattern(n)"
      ],
      "metadata": {
        "colab": {
          "base_uri": "https://localhost:8080/"
        },
        "id": "Vt1v_hOV-7Yp",
        "outputId": "76a306b4-f191-4cf2-e5a6-bcc5fc88c82a"
      },
      "execution_count": 113,
      "outputs": [
        {
          "output_type": "stream",
          "name": "stdout",
          "text": [
            "     *    **   ***  **** ***********"
          ]
        }
      ]
    }
  ]
}