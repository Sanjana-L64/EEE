{
  "nbformat": 4,
  "nbformat_minor": 0,
  "metadata": {
    "colab": {
      "provenance": [],
      "authorship_tag": "ABX9TyMFaI5EAxyIqFBy7uBSoeSV",
      "include_colab_link": true
    },
    "kernelspec": {
      "name": "python3",
      "display_name": "Python 3"
    },
    "language_info": {
      "name": "python"
    }
  },
  "cells": [
    {
      "cell_type": "markdown",
      "metadata": {
        "id": "view-in-github",
        "colab_type": "text"
      },
      "source": [
        "<a href=\"https://colab.research.google.com/github/Sanjana-L64/EEE/blob/main/sanjanaL64.ipynb\" target=\"_parent\"><img src=\"https://colab.research.google.com/assets/colab-badge.svg\" alt=\"Open In Colab\"/></a>"
      ]
    },
    {
      "cell_type": "code",
      "execution_count": 2,
      "metadata": {
        "colab": {
          "base_uri": "https://localhost:8080/"
        },
        "id": "sfYRVjvkKfox",
        "outputId": "d8f78363-5937-465a-9c39-d4889f5f4041"
      },
      "outputs": [
        {
          "output_type": "stream",
          "name": "stdout",
          "text": [
            "enter the no load value220\n",
            "enter the no load value2\n",
            "enter the short circuit voltage value75\n",
            "enter the short circut current value10\n",
            "enter the core losses value250\n",
            "enter the short curcuit losses value500\n",
            "enter the rating value5000\n",
            "efficieny 86.95652173913044\n",
            "efficieny 87.59124087591242\n",
            "efficieny 86.95652173913044\n",
            "efficieny 81.63265306122449\n",
            "npa 0.9665016340022088\n",
            "r0 193.6\n",
            "x0 133.67309875319802\n",
            "r02 5.0\n",
            "r01 1.25\n",
            "x02 5.5901699437494745\n",
            "x01 1.25\n",
            "vcl_losses1 500.0\n",
            "vcl_losses2 281.25\n",
            "vcl_losses3 125.0\n",
            "vcl_losses4 31.25\n"
          ]
        }
      ],
      "source": [
        "import math\n",
        "x1=float(\"1\")\n",
        "x2=float(\"0.75\")\n",
        "x3=float(\"0.5\")\n",
        "x4=float(\"0.25\")\n",
        "pf=1\n",
        "v1=220\n",
        "v2=440\n",
        "k=v2/v1\n",
        "v0=float(input(\"enter the no load voltage value\"))\n",
        "i0=float(input(\"enter the no load current value\"))\n",
        "vsc=float(input(\"enter the short circuit voltage value\"))\n",
        "isc=float(input(\"enter the short circut current value\"))\n",
        "w0=float(input(\"enter the core losses value\"))\n",
        "wsc=float(input(\"enter the short curcuit losses value\"))\n",
        "rating=float(input(\"enter the rating value\"))\n",
        "npf=(w0/(v0*i0))\n",
        "vcl_losses1=x1*x1*wsc\n",
        "vcl_losses2=x2*x2*wsc\n",
        "vcl_losses3=x3*x3*wsc\n",
        "vcl_losses4=x4*x4*wsc\n",
        "iw=i0*npf\n",
        "r0=v0/iw\n",
        "iv=i0*math.sqrt(1-npf**2)\n",
        "x0=v0/iv\n",
        "r02=(wsc/(isc**2))\n",
        "r01=(r02/(k**2))\n",
        "x02=(wsc/(isc**2))\n",
        "x01=(x02/(k**2))\n",
        "z02=vsc/isc\n",
        "x02=math.sqrt(z02**2-r02**2)\n",
        "npa=math.acos(w0/(v0*i0))\n",
        "efficieny1=float(((x1*rating*pf)/(x1*rating*pf+w0+x1*x1*wsc))*100)\n",
        "efficieny2=float(((x2*rating*pf)/(x2*rating*pf+w0+x2*x2*wsc))*100)\n",
        "efficieny3=float(((x3*rating*pf)/(x3*rating*pf+w0+x3*x3*wsc))*100)\n",
        "efficieny4=float(((x4*rating*pf)/(x4*rating*pf+w0+x4*x4*wsc))*100)\n",
        "print(\"efficieny\",efficieny1)\n",
        "print(\"efficieny\",efficieny2)\n",
        "print(\"efficieny\",efficieny3)\n",
        "print(\"efficieny\",efficieny4)\n",
        "print(\"npa\",npa)\n",
        "print(\"r0\",r0)\n",
        "print(\"x0\",x0)\n",
        "print(\"r02\",r02)\n",
        "print(\"r01\",r01)\n",
        "print(\"x02\",x02)\n",
        "print(\"x01\",x01)\n",
        "print(\"vcl_losses1\",vcl_losses1)\n",
        "print(\"vcl_losses2\",vcl_losses2)\n",
        "print(\"vcl_losses3\",vcl_losses3)\n",
        "print(\"vcl_losses4\",vcl_losses4)\n"
      ]
    }
  ]
}