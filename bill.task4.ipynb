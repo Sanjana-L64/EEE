{
  "nbformat": 4,
  "nbformat_minor": 0,
  "metadata": {
    "colab": {
      "provenance": [],
      "authorship_tag": "ABX9TyML3vj8eKZOcNZrcTvG3CS0",
      "include_colab_link": true
    },
    "kernelspec": {
      "name": "python3",
      "display_name": "Python 3"
    },
    "language_info": {
      "name": "python"
    }
  },
  "cells": [
    {
      "cell_type": "markdown",
      "metadata": {
        "id": "view-in-github",
        "colab_type": "text"
      },
      "source": [
        "<a href=\"https://colab.research.google.com/github/Sanjana-L64/EEE/blob/main/bill.task4.ipynb\" target=\"_parent\"><img src=\"https://colab.research.google.com/assets/colab-badge.svg\" alt=\"Open In Colab\"/></a>"
      ]
    },
    {
      "cell_type": "code",
      "execution_count": 1,
      "metadata": {
        "colab": {
          "base_uri": "https://localhost:8080/"
        },
        "id": "KrN2ZCOKx1O4",
        "outputId": "8e0fa053-7013-48ed-ec5e-f159a7632d4a"
      },
      "outputs": [
        {
          "output_type": "stream",
          "name": "stdout",
          "text": [
            "ind_time\n",
            "enter the present kwh 7183\n",
            "enter the previous kwh 7144\n",
            "units: 39.0\n",
            "electricity bill amount is 138.39\n",
            "present_KWH: 7183.0 KWH\n",
            "previous_KWH: 7144.0 KWH\n",
            "unitsconsumed: 39.0 KWH\n",
            "Energy_Charges: 76.05 Rs\n",
            "Customer_charge: 40 Rs\n",
            "Electricity Duty Charge: 2.34 Rs\n",
            "138.39000000000001\n"
          ]
        }
      ],
      "source": [
        "from pytz import timezone\n",
        "from datetime import datetime\n",
        "ind_time = datetime.now(timezone('Asia/Kolkata')).strftime('%Y-%m-%d %H:%M:%S')\n",
        "print(\"ind_time\")\n",
        "presentKWH=float(input(\"enter the present kwh \"))\n",
        "previousKWH=float(input(\"enter the previous kwh \"))\n",
        "units=(presentKWH-previousKWH)\n",
        "print(\"units:\",units)\n",
        " #domestic\n",
        "fixedcharges=20\n",
        "ED =float(0.06*units)\n",
        "if units<=100:\n",
        " if (units<=50):\n",
        "  EC=float(units*1.95)\n",
        "  CC=40\n",
        "  print(\"electricity bill amount is\",EC+CC+ED+fixedcharges)\n",
        " else:\n",
        "  EC=float(units*3.10)\n",
        "  CC=70\n",
        "  print(\"electricity bill amount is\",EC+CC+ED+fixedcharges)\n",
        "\n",
        "#comercial\n",
        "  fixedcharges=70\n",
        "  ED=0.06*units\n",
        "  if units<=300:\n",
        "   if (units<=100):\n",
        "    EC=float(units*8.50)\n",
        "    CC=90\n",
        "    print(\"electricity bill amount is\",EC+CC+ED+fixedcharges)\n",
        "   else:\n",
        "    EC=float(units*9.90)\n",
        "    CC=105\n",
        "    print(\"electricity bill amount is\",EC+CC+ED+fixedcharges)\n",
        " #advertisement\n",
        "  fixedcharges=60\n",
        "  ED=0.06*units\n",
        "  if units<=200:\n",
        "   if (units<=100):\n",
        "    EC=float(units*5.30)\n",
        "    CC=90\n",
        "    print(\"electricity bill amount is\",EC+CC+ED+fixedcharges)\n",
        "   else:\n",
        "    EC=float(units*6.60)\n",
        "    CC=90\n",
        "    print(\"electricity bill amount is\",EC+CC+ED+fixedcharges)\n",
        "print(\"present_KWH:\",presentKWH,\"KWH\")\n",
        "print(\"previous_KWH:\",previousKWH,\"KWH\")\n",
        "print(\"unitsconsumed:\",units,\"KWH\")\n",
        "print(\"Energy_Charges:\",EC,\"Rs\")\n",
        "print(\"Customer_charge:\",CC,\"Rs\")\n",
        "print(\"Electricity Duty Charge:\",ED,\"Rs\")\n",
        "bill=(EC+fixedcharges+CC+ED)\n",
        "print(bill)"
      ]
    }
  ]
}