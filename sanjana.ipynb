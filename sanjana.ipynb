{
  "nbformat": 4,
  "nbformat_minor": 0,
  "metadata": {
    "colab": {
      "provenance": [],
      "authorship_tag": "ABX9TyOk8sZjr4UKm/urPK6XwrX+",
      "include_colab_link": true
    },
    "kernelspec": {
      "name": "python3",
      "display_name": "Python 3"
    },
    "language_info": {
      "name": "python"
    }
  },
  "cells": [
    {
      "cell_type": "markdown",
      "metadata": {
        "id": "view-in-github",
        "colab_type": "text"
      },
      "source": [
        "<a href=\"https://colab.research.google.com/github/Sanjana-L64/EEE/blob/main/sanjana.ipynb\" target=\"_parent\"><img src=\"https://colab.research.google.com/assets/colab-badge.svg\" alt=\"Open In Colab\"/></a>"
      ]
    },
    {
      "cell_type": "code",
      "execution_count": null,
      "metadata": {
        "colab": {
          "base_uri": "https://localhost:8080/"
        },
        "id": "b6v3eOXBg085",
        "outputId": "d19b971b-32c6-4c23-a907-b7f04597c1da"
      },
      "outputs": [
        {
          "output_type": "stream",
          "name": "stdout",
          "text": [
            "enter the va value10000000\n",
            "enter the power factor0.95\n",
            "enter the core losses100000\n",
            "enter the copper losses500000\n",
            "effficency of the  transformer at load is 94.05940594059405 %\n",
            "effficency of the  transformer at load is 93.17531671434409 %\n",
            "effficency of the  transformer at load is 97.31113956466069 %\n",
            "effficency of the  transformer at load is 95.8839299794985 %\n",
            "copper losses 500000.0\n",
            "copper losses 281250.0\n",
            "copper losses 125000.0\n",
            "copper losses 31250.0\n"
          ]
        }
      ],
      "source": [
        "rating=float(input(\"enter the va value\"))\n",
        "powerfactor=float(input(\"enter the power factor\"))\n",
        "x1=float(\"1\")\n",
        "x2=float(\"0.75\")\n",
        "x3=float(\"0.5\")\n",
        "x4=float(\"0.25\")\n",
        "w0=float(input(\"enter the core losses\"))\n",
        "wsc=float(input(\"enter the copper losses\"))\n",
        "wsc1=float(x1*x1*wsc)\n",
        "wsc2=float(x2*x2*wsc)\n",
        "wsc3=float(x3*x3*wsc)\n",
        "wsc4=float(x4*x4*wsc)\n",
        "efficieny1=float(((x1*rating*powerfactor)/(x1*rating*powerfactor+w0+x1*x1*wsc1))*100)\n",
        "efficieny2=float(((x2*rating*powerfactor)/(x2*rating*powerfactor+w0+x2*2*wsc2))*100)\n",
        "efficieny3=float(((x3*rating*powerfactor)/(x3*rating*powerfactor+w0+x3*x3*wsc3))*100)\n",
        "efficieny4=float(((x4*rating*powerfactor)/(x4*rating*powerfactor+w0+x4*x4*wsc4))*100)\n",
        "print(\"effficency of the  transformer at load is\",efficieny1,\"%\")\n",
        "print(\"effficency of the  transformer at load is\",efficieny2,\"%\")\n",
        "print(\"effficency of the  transformer at load is\",efficieny3,\"%\")\n",
        "print(\"effficency of the  transformer at load is\",efficieny4,\"%\")\n",
        "print(\"copper losses\",wsc1)\n",
        "print(\"copper losses\",wsc2)\n",
        "print(\"copper losses\",wsc3)\n",
        "print(\"copper losses\",wsc4)"
      ]
    }
  ]
}