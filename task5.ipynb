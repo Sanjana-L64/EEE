{
  "nbformat": 4,
  "nbformat_minor": 0,
  "metadata": {
    "colab": {
      "provenance": [],
      "authorship_tag": "ABX9TyMbJp3P9XwVoJJ4KkExwmtx",
      "include_colab_link": true
    },
    "kernelspec": {
      "name": "python3",
      "display_name": "Python 3"
    },
    "language_info": {
      "name": "python"
    }
  },
  "cells": [
    {
      "cell_type": "markdown",
      "metadata": {
        "id": "view-in-github",
        "colab_type": "text"
      },
      "source": [
        "<a href=\"https://colab.research.google.com/github/Sanjana-L64/EEE/blob/main/task5.ipynb\" target=\"_parent\"><img src=\"https://colab.research.google.com/assets/colab-badge.svg\" alt=\"Open In Colab\"/></a>"
      ]
    },
    {
      "cell_type": "code",
      "execution_count": null,
      "metadata": {
        "colab": {
          "base_uri": "https://localhost:8080/"
        },
        "id": "hjebratnt6Q9",
        "outputId": "8ba8a377-0d68-40d4-c45e-8463454fbc3a"
      },
      "outputs": [
        {
          "output_type": "stream",
          "name": "stdout",
          "text": [
            "enter the Input category weather it is domestic, commercial , advertising or hoding : advertising\n",
            "Enter the present KWH :7183\n",
            "Enter the previous KWH :7144\n",
            "---------------------------\n",
            "TGNPDCL\n",
            "Formatted date and time: 2024-09-19 10:12:23\n",
            "---------------------------\n",
            "Present Unit:  7183.0 KWH\n",
            "Previous KWH:  7144.0 KWH\n",
            "Units  Consumed:  39.0 KWH\n",
            "Energy Charge:  206.7 Rs\n",
            "Customer Charge:  45 Rs\n",
            "Fixed Charge:  60 Rs\n",
            "Electricity Duty Charge:  2.34 Rs\n",
            "Bill Amount : 314.03999999999996 Rs\n"
          ]
        }
      ],
      "source": [
        "import datetime\n",
        "import eba\n",
        "now = datetime.datetime.now()\n",
        "formatted_now = now.strftime(\"%Y-%m-%d %H:%M:%S\")\n",
        "count = 0\n",
        "#category\n",
        "category=input(\"enter the Input category weather it is domestic, commercial , advertising or hoding : \").lower()\n",
        "\n",
        "CU =float(input(\"Enter the present KWH :\"))\n",
        "PU=float(input(\"Enter the previous KWH :\"))\n",
        "units=float(CU-PU)\n",
        "FC=0\n",
        "Customer_charge=0\n",
        "EC=0\n",
        "ED=0.06*units\n",
        "#domestic\n",
        "if category==\"domestic\":\n",
        "  FC=20\n",
        "  if units<=50:\n",
        "    EC=float(units*1.95)\n",
        "    Customer_charge=40\n",
        "\n",
        "  elif units<=100:\n",
        "    EC=float(units*3.10)\n",
        "    Customer_charge=70\n",
        "\n",
        "  elif units<=200:\n",
        "    EC=float(units*4.80)\n",
        "    Customer_charge=90\n",
        "    count+=1\n",
        "#commercial\n",
        "elif category==\"commercial\":\n",
        "  ED=float(0.06*units)\n",
        "  FC=70\n",
        "  if units<=50:\n",
        "    EC=units*7\n",
        "    Customer_charge=50\n",
        "\n",
        "  elif units<=100:\n",
        "    EC=(units*7)\n",
        "    Customer_charge=90\n",
        "\n",
        "  elif units<=200:\n",
        "    EC=float(units*8.50)\n",
        "    Customer_charge=105\n",
        "    count +=1\n",
        "\n",
        "#advertising\n",
        "elif category==\"advertising\":\n",
        "  FC=60\n",
        "  if units<= 50:\n",
        "    EC=float(units*5.30)\n",
        "    Customer_charge=45\n",
        "\n",
        "  elif units<=100:\n",
        "    EC=float(units*6.60)\n",
        "    Customer_charge=55\n",
        "\n",
        "  elif units<=200:\n",
        "    EC=float(units*7.50)\n",
        "    Customer_charge=65\n",
        "    count+=1\n",
        "\n",
        "if count==0:\n",
        "   Bill=EC+FC+ED+Customer_charge\n",
        "   print(\"---------------------------\")\n",
        "   print(\"TGNPDCL\")\n",
        "   print(\"Formatted date and time:\", formatted_now)\n",
        "   print(\"---------------------------\")\n",
        "   print(\"Present Unit: \",CU,\"KWH\")\n",
        "   print(\"Previous KWH: \",PU,\"KWH\")\n",
        "   print(\"Units  Consumed: \",units,\"KWH\")\n",
        "   print(\"Energy Charge: \",EC,\"Rs\")\n",
        "   print(\"Customer Charge: \",Customer_charge,\"Rs\")\n",
        "   print(\"Fixed Charge: \",FC,\"Rs\")\n",
        "   print(\"Electricity Duty Charge: \",ED,\"Rs\")\n",
        "   print(\"Bill Amount :\",Bill,\"Rs\")\n",
        "\n",
        "\n"
      ]
    }
  ]
}